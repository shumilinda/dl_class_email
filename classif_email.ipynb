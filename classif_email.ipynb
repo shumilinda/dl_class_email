{
 "cells": [
  {
   "cell_type": "markdown",
   "metadata": {},
   "source": [
    "*Подключаем необходимые библиотеки*"
   ]
  },
  {
   "cell_type": "code",
   "execution_count": 1,
   "metadata": {
    "_cell_guid": "b1076dfc-b9ad-4769-8c92-a6c4dae69d19",
    "_uuid": "8f2839f25d086af736a60e9eeb907d3b93b6e0e5",
    "execution": {
     "iopub.execute_input": "2025-03-18T04:25:23.091223Z",
     "iopub.status.busy": "2025-03-18T04:25:23.090915Z",
     "iopub.status.idle": "2025-03-18T04:25:41.799477Z",
     "shell.execute_reply": "2025-03-18T04:25:41.798674Z",
     "shell.execute_reply.started": "2025-03-18T04:25:23.091193Z"
    },
    "trusted": true
   },
   "outputs": [],
   "source": [
    "import warnings\n",
    "from string import punctuation\n",
    "import os\n",
    "\n",
    "import numpy as np\n",
    "import pandas as pd\n",
    "\n",
    "from gensim.models import KeyedVectors, Word2Vec\n",
    "\n",
    "from nltk.corpus import stopwords\n",
    "\n",
    "from sklearn.linear_model import LogisticRegression, SGDClassifier\n",
    "from sklearn.metrics import accuracy_score, f1_score, precision_score, recall_score\n",
    "from sklearn.model_selection import cross_validate, train_test_split\n",
    "\n",
    "from tqdm import tqdm\n",
    "\n",
    "import torch\n",
    "import torch.nn as nn\n",
    "import torch.nn.functional as F\n",
    "from torch.nn.utils.rnn import pad_sequence, pack_padded_sequence\n",
    "from torch.utils.data import DataLoader, Dataset\n",
    "\n",
    "import wandb\n",
    "\n",
    "warnings.simplefilter(\"ignore\")"
   ]
  },
  {
   "cell_type": "markdown",
   "metadata": {},
   "source": [
    "*Создаём необходимые папки и загружаем в них необходимые данные*"
   ]
  },
  {
   "cell_type": "code",
   "execution_count": 2,
   "metadata": {
    "execution": {
     "iopub.execute_input": "2025-03-18T04:25:41.800818Z",
     "iopub.status.busy": "2025-03-18T04:25:41.800541Z",
     "iopub.status.idle": "2025-03-18T04:25:41.804634Z",
     "shell.execute_reply": "2025-03-18T04:25:41.803954Z",
     "shell.execute_reply.started": "2025-03-18T04:25:41.800790Z"
    },
    "trusted": true
   },
   "outputs": [],
   "source": [
    "folders = [\"spam-emails\", \"pretrained-w2v\", \"w2v-text\"]\n",
    "for folder in folders:\n",
    "    os.makedirs(folder)"
   ]
  },
  {
   "cell_type": "code",
   "execution_count": 3,
   "metadata": {
    "execution": {
     "iopub.execute_input": "2025-03-18T04:25:41.806635Z",
     "iopub.status.busy": "2025-03-18T04:25:41.806305Z",
     "iopub.status.idle": "2025-03-18T04:25:50.640166Z",
     "shell.execute_reply": "2025-03-18T04:25:50.639085Z",
     "shell.execute_reply.started": "2025-03-18T04:25:41.806603Z"
    },
    "trusted": true
   },
   "outputs": [
    {
     "name": "stdout",
     "output_type": "stream",
     "text": [
      "Downloading...\n",
      "From (original): https://drive.google.com/uc?id=151X3grlutx4K63yEQ2Pr3yvIF5U--KAd\n",
      "From (redirected): https://drive.google.com/uc?id=151X3grlutx4K63yEQ2Pr3yvIF5U--KAd&confirm=t&uuid=8d402955-8ce2-4e79-9fa4-63cf35b4ac12\n",
      "To: /kaggle/working/spam-emails/email.csv\n",
      "100%|████████████████████████████████████████| 140M/140M [00:03<00:00, 40.0MB/s]\n"
     ]
    }
   ],
   "source": [
    "!gdown 151X3grlutx4K63yEQ2Pr3yvIF5U--KAd -O spam-emails/"
   ]
  },
  {
   "cell_type": "code",
   "execution_count": 4,
   "metadata": {
    "execution": {
     "iopub.execute_input": "2025-03-18T04:25:50.642140Z",
     "iopub.status.busy": "2025-03-18T04:25:50.641831Z",
     "iopub.status.idle": "2025-03-18T04:27:08.666451Z",
     "shell.execute_reply": "2025-03-18T04:27:08.665619Z",
     "shell.execute_reply.started": "2025-03-18T04:25:50.642109Z"
    },
    "trusted": true
   },
   "outputs": [
    {
     "name": "stdout",
     "output_type": "stream",
     "text": [
      "Downloading...\n",
      "From (original): https://drive.google.com/uc?id=1Jjhqvzt7lo3_QphDi3W1e5WNHM_265hz\n",
      "From (redirected): https://drive.google.com/uc?id=1Jjhqvzt7lo3_QphDi3W1e5WNHM_265hz&confirm=t&uuid=12d68a4b-4edb-4d6a-85c7-1ac28e7a9d15\n",
      "To: /kaggle/working/pretrained-w2v/GoogleNews-vectors-negative300.bin\n",
      "100%|██████████████████████████████████████| 3.64G/3.64G [01:12<00:00, 49.9MB/s]\n"
     ]
    }
   ],
   "source": [
    "!gdown 1Jjhqvzt7lo3_QphDi3W1e5WNHM_265hz -O pretrained-w2v/"
   ]
  },
  {
   "cell_type": "code",
   "execution_count": 5,
   "metadata": {
    "execution": {
     "iopub.execute_input": "2025-03-18T04:27:08.667802Z",
     "iopub.status.busy": "2025-03-18T04:27:08.667476Z",
     "iopub.status.idle": "2025-03-18T04:27:18.457993Z",
     "shell.execute_reply": "2025-03-18T04:27:18.456931Z",
     "shell.execute_reply.started": "2025-03-18T04:27:08.667769Z"
    },
    "trusted": true
   },
   "outputs": [
    {
     "name": "stdout",
     "output_type": "stream",
     "text": [
      "Downloading...\n",
      "From (original): https://drive.google.com/uc?id=1B4a9reN9HB9dPKEPPQrgNraxwiz9OkAs\n",
      "From (redirected): https://drive.google.com/uc?id=1B4a9reN9HB9dPKEPPQrgNraxwiz9OkAs&confirm=t&uuid=7843484a-961e-4cef-aef6-98c71df7127a\n",
      "To: /kaggle/working/w2v-text/train.txt\n",
      "100%|████████████████████████████████████████| 207M/207M [00:04<00:00, 41.7MB/s]\n"
     ]
    }
   ],
   "source": [
    "!gdown 1B4a9reN9HB9dPKEPPQrgNraxwiz9OkAs -O w2v-text/"
   ]
  },
  {
   "cell_type": "markdown",
   "metadata": {},
   "source": [
    "*Подключаем wandb*"
   ]
  },
  {
   "cell_type": "code",
   "execution_count": 6,
   "metadata": {
    "execution": {
     "iopub.execute_input": "2025-03-18T04:27:18.459383Z",
     "iopub.status.busy": "2025-03-18T04:27:18.459037Z",
     "iopub.status.idle": "2025-03-18T04:27:26.245094Z",
     "shell.execute_reply": "2025-03-18T04:27:26.244325Z",
     "shell.execute_reply.started": "2025-03-18T04:27:18.459357Z"
    },
    "trusted": true
   },
   "outputs": [
    {
     "name": "stderr",
     "output_type": "stream",
     "text": [
      "\u001b[34m\u001b[1mwandb\u001b[0m: Using wandb-core as the SDK backend.  Please refer to https://wandb.me/wandb-core for more information.\n",
      "\u001b[34m\u001b[1mwandb\u001b[0m: Currently logged in as: \u001b[33mda-shumilin03\u001b[0m. Use \u001b[1m`wandb login --relogin`\u001b[0m to force relogin\n",
      "\u001b[34m\u001b[1mwandb\u001b[0m: \u001b[33mWARNING\u001b[0m If you're specifying your api key in code, ensure this code is not shared publicly.\n",
      "\u001b[34m\u001b[1mwandb\u001b[0m: \u001b[33mWARNING\u001b[0m Consider setting the WANDB_API_KEY environment variable, or running `wandb login` from the command line.\n",
      "\u001b[34m\u001b[1mwandb\u001b[0m: Appending key for api.wandb.ai to your netrc file: /root/.netrc\n"
     ]
    }
   ],
   "source": [
    "with open(\"wandb-login/wandb_api.txt\", 'r') as file:\n",
    "    login = file.read()\n",
    "    wandb.login(key=login)"
   ]
  },
  {
   "cell_type": "markdown",
   "metadata": {},
   "source": [
    "*Выводим 5 случайных строк из данных, которые будем позже предсказывать, смотрим на размеры данных и соотношение классов*"
   ]
  },
  {
   "cell_type": "code",
   "execution_count": 7,
   "metadata": {
    "execution": {
     "iopub.execute_input": "2025-03-18T04:27:26.246808Z",
     "iopub.status.busy": "2025-03-18T04:27:26.246195Z",
     "iopub.status.idle": "2025-03-18T04:27:29.621648Z",
     "shell.execute_reply": "2025-03-18T04:27:29.620737Z",
     "shell.execute_reply.started": "2025-03-18T04:27:26.246783Z"
    },
    "trusted": true
   },
   "outputs": [
    {
     "data": {
      "text/html": [
       "<div>\n",
       "<style scoped>\n",
       "    .dataframe tbody tr th:only-of-type {\n",
       "        vertical-align: middle;\n",
       "    }\n",
       "\n",
       "    .dataframe tbody tr th {\n",
       "        vertical-align: top;\n",
       "    }\n",
       "\n",
       "    .dataframe thead th {\n",
       "        text-align: right;\n",
       "    }\n",
       "</style>\n",
       "<table border=\"1\" class=\"dataframe\">\n",
       "  <thead>\n",
       "    <tr style=\"text-align: right;\">\n",
       "      <th></th>\n",
       "      <th>label</th>\n",
       "      <th>text</th>\n",
       "    </tr>\n",
       "  </thead>\n",
       "  <tbody>\n",
       "    <tr>\n",
       "      <th>65703</th>\n",
       "      <td>1</td>\n",
       "      <td>hewi escapelong escapelong escapelong escapelo...</td>\n",
       "    </tr>\n",
       "    <tr>\n",
       "      <th>79008</th>\n",
       "      <td>1</td>\n",
       "      <td>comes thats reached truly bought nothing cant ...</td>\n",
       "    </tr>\n",
       "    <tr>\n",
       "      <th>7979</th>\n",
       "      <td>1</td>\n",
       "      <td>look at these\\nimages . can ' t view them ? to...</td>\n",
       "    </tr>\n",
       "    <tr>\n",
       "      <th>42198</th>\n",
       "      <td>1</td>\n",
       "      <td>dear customer tired of paying twice the price ...</td>\n",
       "    </tr>\n",
       "    <tr>\n",
       "      <th>65342</th>\n",
       "      <td>0</td>\n",
       "      <td>there is an electrical problem at the plant , ...</td>\n",
       "    </tr>\n",
       "  </tbody>\n",
       "</table>\n",
       "</div>"
      ],
      "text/plain": [
       "       label                                               text\n",
       "65703      1  hewi escapelong escapelong escapelong escapelo...\n",
       "79008      1  comes thats reached truly bought nothing cant ...\n",
       "7979       1  look at these\\nimages . can ' t view them ? to...\n",
       "42198      1  dear customer tired of paying twice the price ...\n",
       "65342      0  there is an electrical problem at the plant , ..."
      ]
     },
     "execution_count": 7,
     "metadata": {},
     "output_type": "execute_result"
    }
   ],
   "source": [
    "df = pd.read_csv(\"/kaggle/input/spam-emails/email.csv\")\n",
    "df.sample(5)"
   ]
  },
  {
   "cell_type": "code",
   "execution_count": 8,
   "metadata": {
    "execution": {
     "iopub.execute_input": "2025-03-18T04:27:29.624061Z",
     "iopub.status.busy": "2025-03-18T04:27:29.623828Z",
     "iopub.status.idle": "2025-03-18T04:27:29.628962Z",
     "shell.execute_reply": "2025-03-18T04:27:29.628044Z",
     "shell.execute_reply.started": "2025-03-18T04:27:29.624041Z"
    },
    "trusted": true
   },
   "outputs": [
    {
     "data": {
      "text/plain": [
       "(83448, 2)"
      ]
     },
     "execution_count": 8,
     "metadata": {},
     "output_type": "execute_result"
    }
   ],
   "source": [
    "df.shape"
   ]
  },
  {
   "cell_type": "code",
   "execution_count": 9,
   "metadata": {
    "execution": {
     "iopub.execute_input": "2025-03-18T04:27:29.630624Z",
     "iopub.status.busy": "2025-03-18T04:27:29.630349Z",
     "iopub.status.idle": "2025-03-18T04:27:30.301104Z",
     "shell.execute_reply": "2025-03-18T04:27:30.300333Z",
     "shell.execute_reply.started": "2025-03-18T04:27:29.630603Z"
    },
    "trusted": true
   },
   "outputs": [
    {
     "data": {
      "text/plain": [
       "label\n",
       "1    0.526196\n",
       "0    0.473804\n",
       "Name: proportion, dtype: float64"
      ]
     },
     "execution_count": 9,
     "metadata": {},
     "output_type": "execute_result"
    }
   ],
   "source": [
    "df[\"label\"].value_counts(normalize=True)"
   ]
  },
  {
   "cell_type": "markdown",
   "metadata": {},
   "source": [
    "*Создаём функцию токенизации, удаляя пунктуацию и лишние слова из предложений*"
   ]
  },
  {
   "cell_type": "code",
   "execution_count": 10,
   "metadata": {
    "execution": {
     "iopub.execute_input": "2025-03-18T04:27:30.302403Z",
     "iopub.status.busy": "2025-03-18T04:27:30.302030Z",
     "iopub.status.idle": "2025-03-18T04:27:30.315857Z",
     "shell.execute_reply": "2025-03-18T04:27:30.315068Z",
     "shell.execute_reply.started": "2025-03-18T04:27:30.302371Z"
    },
    "trusted": true
   },
   "outputs": [],
   "source": [
    "def tokenization(text):\n",
    "    text = text.lower()\n",
    "    for p in punctuation:\n",
    "        text = text.replace(p, '')\n",
    "    tokins = [word for word in text.strip().split() if word not in stopwords.words(\"english\")]\n",
    "    return tokins"
   ]
  },
  {
   "cell_type": "code",
   "execution_count": 11,
   "metadata": {
    "execution": {
     "iopub.execute_input": "2025-03-18T04:27:30.317005Z",
     "iopub.status.busy": "2025-03-18T04:27:30.316731Z",
     "iopub.status.idle": "2025-03-18T04:27:30.343661Z",
     "shell.execute_reply": "2025-03-18T04:27:30.343010Z",
     "shell.execute_reply.started": "2025-03-18T04:27:30.316985Z"
    },
    "trusted": true
   },
   "outputs": [
    {
     "data": {
      "text/plain": [
       "['mystery',\n",
       " 'human',\n",
       " 'existence',\n",
       " 'lies',\n",
       " 'staying',\n",
       " 'alive',\n",
       " 'finding',\n",
       " 'something',\n",
       " 'live']"
      ]
     },
     "execution_count": 11,
     "metadata": {},
     "output_type": "execute_result"
    }
   ],
   "source": [
    "string = \"The mystery of human existence lies not in just staying alive, but in finding something to live for.\"\n",
    "tokenization(string)"
   ]
  },
  {
   "cell_type": "markdown",
   "metadata": {},
   "source": [
    "*Загружаем данные, на которых будем обучать Word2Vec модель*"
   ]
  },
  {
   "cell_type": "code",
   "execution_count": 12,
   "metadata": {
    "execution": {
     "iopub.execute_input": "2025-03-18T04:27:30.344843Z",
     "iopub.status.busy": "2025-03-18T04:27:30.344529Z",
     "iopub.status.idle": "2025-03-18T04:27:33.948301Z",
     "shell.execute_reply": "2025-03-18T04:27:33.947371Z",
     "shell.execute_reply.started": "2025-03-18T04:27:30.344813Z"
    },
    "trusted": true
   },
   "outputs": [],
   "source": [
    "texts = []\n",
    "with open(\"w2v-text/text.txt\", 'r', encoding=\"utf-8\", errors=\"ignore\") as f:\n",
    "    for line in f.readlines():\n",
    "        texts.append(line)"
   ]
  },
  {
   "cell_type": "code",
   "execution_count": 13,
   "metadata": {
    "execution": {
     "iopub.execute_input": "2025-03-18T04:27:33.949341Z",
     "iopub.status.busy": "2025-03-18T04:27:33.949075Z",
     "iopub.status.idle": "2025-03-18T04:27:33.953885Z",
     "shell.execute_reply": "2025-03-18T04:27:33.953255Z",
     "shell.execute_reply.started": "2025-03-18T04:27:33.949313Z"
    },
    "trusted": true
   },
   "outputs": [
    {
     "data": {
      "text/plain": [
       "'Soon we dropped into a living forest, where cold-tolerant evergreens and boreal animals still evoke the Canadian heritage of an ecosystem pushed south by glaciers 20,000 years ago.\\n'"
      ]
     },
     "execution_count": 13,
     "metadata": {},
     "output_type": "execute_result"
    }
   ],
   "source": [
    "texts[0]"
   ]
  },
  {
   "cell_type": "markdown",
   "metadata": {},
   "source": [
    "*Токенизируем данные*"
   ]
  },
  {
   "cell_type": "code",
   "execution_count": 14,
   "metadata": {
    "execution": {
     "iopub.execute_input": "2025-03-18T04:27:33.954718Z",
     "iopub.status.busy": "2025-03-18T04:27:33.954534Z",
     "iopub.status.idle": "2025-03-18T05:18:51.570130Z",
     "shell.execute_reply": "2025-03-18T05:18:51.569279Z",
     "shell.execute_reply.started": "2025-03-18T04:27:33.954701Z"
    },
    "trusted": true
   },
   "outputs": [
    {
     "name": "stderr",
     "output_type": "stream",
     "text": [
      "100%|██████████| 1534699/1534699 [51:17<00:00, 498.67it/s] \n"
     ]
    }
   ],
   "source": [
    "data = []\n",
    "for text in tqdm(texts):\n",
    "    data.append(tokenization(text))"
   ]
  },
  {
   "cell_type": "code",
   "execution_count": 15,
   "metadata": {
    "execution": {
     "iopub.execute_input": "2025-03-18T05:18:51.571130Z",
     "iopub.status.busy": "2025-03-18T05:18:51.570929Z",
     "iopub.status.idle": "2025-03-18T05:18:51.576124Z",
     "shell.execute_reply": "2025-03-18T05:18:51.575385Z",
     "shell.execute_reply.started": "2025-03-18T05:18:51.571112Z"
    },
    "trusted": true
   },
   "outputs": [
    {
     "data": {
      "text/plain": [
       "['soon',\n",
       " 'dropped',\n",
       " 'living',\n",
       " 'forest',\n",
       " 'coldtolerant',\n",
       " 'evergreens',\n",
       " 'boreal',\n",
       " 'animals',\n",
       " 'still',\n",
       " 'evoke',\n",
       " 'canadian',\n",
       " 'heritage',\n",
       " 'ecosystem',\n",
       " 'pushed',\n",
       " 'south',\n",
       " 'glaciers',\n",
       " '20000',\n",
       " 'years',\n",
       " 'ago']"
      ]
     },
     "execution_count": 15,
     "metadata": {},
     "output_type": "execute_result"
    }
   ],
   "source": [
    "data[0]"
   ]
  },
  {
   "cell_type": "markdown",
   "metadata": {},
   "source": [
    "*Обучаем модель и смотрим на её ответы на стандартных тестах*"
   ]
  },
  {
   "cell_type": "code",
   "execution_count": 16,
   "metadata": {
    "execution": {
     "iopub.execute_input": "2025-03-18T05:18:51.577414Z",
     "iopub.status.busy": "2025-03-18T05:18:51.577104Z",
     "iopub.status.idle": "2025-03-18T05:20:26.366526Z",
     "shell.execute_reply": "2025-03-18T05:20:26.365805Z",
     "shell.execute_reply.started": "2025-03-18T05:18:51.577382Z"
    },
    "trusted": true
   },
   "outputs": [],
   "source": [
    "my_model = Word2Vec(sentences=data, vector_size=100, window=7, min_count=10, workers=4)"
   ]
  },
  {
   "cell_type": "code",
   "execution_count": 17,
   "metadata": {
    "execution": {
     "iopub.execute_input": "2025-03-18T05:20:26.367565Z",
     "iopub.status.busy": "2025-03-18T05:20:26.367322Z",
     "iopub.status.idle": "2025-03-18T05:20:26.429635Z",
     "shell.execute_reply": "2025-03-18T05:20:26.428732Z",
     "shell.execute_reply.started": "2025-03-18T05:20:26.367538Z"
    },
    "trusted": true
   },
   "outputs": [
    {
     "data": {
      "text/plain": [
       "[('mans', 0.8031670451164246),\n",
       " ('woman', 0.7638831734657288),\n",
       " ('jew', 0.738024890422821),\n",
       " ('cæsar', 0.7193751931190491),\n",
       " ('servant', 0.6952049732208252)]"
      ]
     },
     "execution_count": 17,
     "metadata": {},
     "output_type": "execute_result"
    }
   ],
   "source": [
    "my_model.wv.most_similar(\"man\", topn=5)"
   ]
  },
  {
   "cell_type": "code",
   "execution_count": 18,
   "metadata": {
    "execution": {
     "iopub.execute_input": "2025-03-18T05:20:26.431005Z",
     "iopub.status.busy": "2025-03-18T05:20:26.430679Z",
     "iopub.status.idle": "2025-03-18T05:20:26.439150Z",
     "shell.execute_reply": "2025-03-18T05:20:26.438256Z",
     "shell.execute_reply.started": "2025-03-18T05:20:26.430973Z"
    },
    "trusted": true
   },
   "outputs": [
    {
     "data": {
      "text/plain": [
       "[('man', 0.7098705172538757),\n",
       " ('teenager', 0.6254411339759827),\n",
       " ('girl', 0.6235789060592651),\n",
       " ('men', 0.6173486113548279),\n",
       " ('husband', 0.6146592497825623)]"
      ]
     },
     "execution_count": 18,
     "metadata": {},
     "output_type": "execute_result"
    }
   ],
   "source": [
    "my_model.wv.most_similar(positive=[\"king\", \"woman\"], negative=[\"queen\"], topn=5)"
   ]
  },
  {
   "cell_type": "code",
   "execution_count": 19,
   "metadata": {
    "execution": {
     "iopub.execute_input": "2025-03-18T05:20:26.440323Z",
     "iopub.status.busy": "2025-03-18T05:20:26.440037Z",
     "iopub.status.idle": "2025-03-18T05:20:26.458014Z",
     "shell.execute_reply": "2025-03-18T05:20:26.457355Z",
     "shell.execute_reply.started": "2025-03-18T05:20:26.440273Z"
    },
    "trusted": true
   },
   "outputs": [
    {
     "data": {
      "text/plain": [
       "'ounce feather bowl hummingbird opec moment alabaster valkyrie dyad bread flack desperate iambic hadron heft quell yoghurt bunkmate divert afterimage'"
      ]
     },
     "execution_count": 19,
     "metadata": {},
     "output_type": "execute_result"
    }
   ],
   "source": [
    "df[\"text\"].values[0]"
   ]
  },
  {
   "cell_type": "markdown",
   "metadata": {},
   "source": [
    "*Токенизируем данные, которые будем предсказывать*"
   ]
  },
  {
   "cell_type": "code",
   "execution_count": 20,
   "metadata": {
    "execution": {
     "iopub.execute_input": "2025-03-18T05:20:26.459090Z",
     "iopub.status.busy": "2025-03-18T05:20:26.458850Z",
     "iopub.status.idle": "2025-03-18T05:53:37.667193Z",
     "shell.execute_reply": "2025-03-18T05:53:37.666480Z",
     "shell.execute_reply.started": "2025-03-18T05:20:26.459071Z"
    },
    "trusted": true
   },
   "outputs": [
    {
     "name": "stderr",
     "output_type": "stream",
     "text": [
      "100%|██████████| 83448/83448 [33:11<00:00, 41.91it/s]  \n"
     ]
    }
   ],
   "source": [
    "email_sentence = []\n",
    "for text in tqdm(df[\"text\"].values):\n",
    "    email_sentence.append(tokenization(text))"
   ]
  },
  {
   "cell_type": "code",
   "execution_count": 21,
   "metadata": {
    "execution": {
     "iopub.execute_input": "2025-03-18T05:53:37.668125Z",
     "iopub.status.busy": "2025-03-18T05:53:37.667924Z",
     "iopub.status.idle": "2025-03-18T05:53:37.673318Z",
     "shell.execute_reply": "2025-03-18T05:53:37.672573Z",
     "shell.execute_reply.started": "2025-03-18T05:53:37.668107Z"
    },
    "trusted": true
   },
   "outputs": [
    {
     "data": {
      "text/plain": [
       "(['ounce',\n",
       "  'feather',\n",
       "  'bowl',\n",
       "  'hummingbird',\n",
       "  'opec',\n",
       "  'moment',\n",
       "  'alabaster',\n",
       "  'valkyrie',\n",
       "  'dyad',\n",
       "  'bread',\n",
       "  'flack',\n",
       "  'desperate',\n",
       "  'iambic',\n",
       "  'hadron',\n",
       "  'heft',\n",
       "  'quell',\n",
       "  'yoghurt',\n",
       "  'bunkmate',\n",
       "  'divert',\n",
       "  'afterimage'],\n",
       " 20)"
      ]
     },
     "execution_count": 21,
     "metadata": {},
     "output_type": "execute_result"
    }
   ],
   "source": [
    "email_sentence[0], len(email_sentence[0])"
   ]
  },
  {
   "cell_type": "markdown",
   "metadata": {},
   "source": [
    "*Создаём функцию для получения эмбедингов*"
   ]
  },
  {
   "cell_type": "code",
   "execution_count": 22,
   "metadata": {
    "execution": {
     "iopub.execute_input": "2025-03-18T05:53:48.717122Z",
     "iopub.status.busy": "2025-03-18T05:53:48.716844Z",
     "iopub.status.idle": "2025-03-18T05:53:48.721762Z",
     "shell.execute_reply": "2025-03-18T05:53:48.720863Z",
     "shell.execute_reply.started": "2025-03-18T05:53:48.717100Z"
    },
    "trusted": true
   },
   "outputs": [],
   "source": [
    "def get_embeddings(model, pretrained):\n",
    "    emails_embedding = []\n",
    "    for text in email_sentence:\n",
    "        sentence = []\n",
    "        for word in text:\n",
    "            if (pretrained):\n",
    "                if (word in model):\n",
    "                    sentence.append(model[word])\n",
    "            else:\n",
    "                if (word in model.wv):\n",
    "                    sentence.append(model.wv[word])\n",
    "        emails_embedding.append(sentence.copy())\n",
    "    return emails_embedding"
   ]
  },
  {
   "cell_type": "code",
   "execution_count": 23,
   "metadata": {
    "execution": {
     "iopub.execute_input": "2025-03-18T05:53:50.159144Z",
     "iopub.status.busy": "2025-03-18T05:53:50.158864Z",
     "iopub.status.idle": "2025-03-18T05:54:10.443894Z",
     "shell.execute_reply": "2025-03-18T05:54:10.443048Z",
     "shell.execute_reply.started": "2025-03-18T05:53:50.159123Z"
    },
    "trusted": true
   },
   "outputs": [],
   "source": [
    "emails_embedding_my_model = get_embeddings(my_model, pretrained=0)"
   ]
  },
  {
   "cell_type": "code",
   "execution_count": 24,
   "metadata": {
    "execution": {
     "iopub.execute_input": "2025-03-18T05:54:10.445226Z",
     "iopub.status.busy": "2025-03-18T05:54:10.444988Z",
     "iopub.status.idle": "2025-03-18T05:54:10.450228Z",
     "shell.execute_reply": "2025-03-18T05:54:10.449366Z",
     "shell.execute_reply.started": "2025-03-18T05:54:10.445205Z"
    },
    "trusted": true
   },
   "outputs": [
    {
     "data": {
      "text/plain": [
       "14"
      ]
     },
     "execution_count": 24,
     "metadata": {},
     "output_type": "execute_result"
    }
   ],
   "source": [
    "len(emails_embedding_my_model[0])"
   ]
  },
  {
   "cell_type": "markdown",
   "metadata": {},
   "source": [
    "*Так как для начала мы будем обучать модель, которая принимает лишь вектор в качестве данных, то схлопнем всё предложение в один эмбединг путём усреднения*"
   ]
  },
  {
   "cell_type": "code",
   "execution_count": 25,
   "metadata": {
    "execution": {
     "iopub.execute_input": "2025-03-18T05:54:10.452243Z",
     "iopub.status.busy": "2025-03-18T05:54:10.452053Z",
     "iopub.status.idle": "2025-03-18T05:54:10.466419Z",
     "shell.execute_reply": "2025-03-18T05:54:10.465679Z",
     "shell.execute_reply.started": "2025-03-18T05:54:10.452226Z"
    },
    "trusted": true
   },
   "outputs": [],
   "source": [
    "def get_mean_embeddings(model, emails_embedding):\n",
    "    emails_embedding_mean = np.zeros((len(emails_embedding), model.vector_size))\n",
    "    for index, value in enumerate(emails_embedding):\n",
    "        emails_embedding_mean[index] = np.mean(value, axis=0)\n",
    "        \n",
    "    return emails_embedding_mean"
   ]
  },
  {
   "cell_type": "code",
   "execution_count": 26,
   "metadata": {
    "execution": {
     "iopub.execute_input": "2025-03-18T05:54:10.467850Z",
     "iopub.status.busy": "2025-03-18T05:54:10.467620Z",
     "iopub.status.idle": "2025-03-18T05:54:16.616339Z",
     "shell.execute_reply": "2025-03-18T05:54:16.615442Z",
     "shell.execute_reply.started": "2025-03-18T05:54:10.467830Z"
    },
    "trusted": true
   },
   "outputs": [],
   "source": [
    "emails_embedding_my_model_mean = get_mean_embeddings(my_model, emails_embedding_my_model)"
   ]
  },
  {
   "cell_type": "code",
   "execution_count": 27,
   "metadata": {
    "execution": {
     "iopub.execute_input": "2025-03-18T05:54:16.617382Z",
     "iopub.status.busy": "2025-03-18T05:54:16.617112Z",
     "iopub.status.idle": "2025-03-18T05:54:16.623096Z",
     "shell.execute_reply": "2025-03-18T05:54:16.622182Z",
     "shell.execute_reply.started": "2025-03-18T05:54:16.617360Z"
    },
    "trusted": true
   },
   "outputs": [
    {
     "data": {
      "text/plain": [
       "array([-0.06995446, -0.03608357,  0.21911904,  0.02696909, -0.28153101,\n",
       "       -0.43365574,  0.44424745,  0.34215495,  0.09337538, -0.02183237,\n",
       "       -0.34769979, -0.05441582,  0.23229744,  0.2380842 ,  0.52173048,\n",
       "        0.26985884,  0.17581484,  0.01251382,  0.13886508, -0.1977465 ,\n",
       "        0.57096809,  0.13123146,  0.19768038,  0.36109486,  0.25478584,\n",
       "        0.03856817, -0.44804293, -0.07417977, -0.40217406, -0.19180344,\n",
       "        0.53037864,  0.19885656,  0.41454539, -0.46947023,  0.2688303 ,\n",
       "        0.49610329,  0.36827216, -0.01727464, -0.20326376,  0.26556185,\n",
       "       -0.18026689,  0.1116833 , -0.41199657, -0.19726343,  0.1108924 ,\n",
       "        0.25960016, -0.5692293 ,  0.19312397, -0.04917172,  0.17095403,\n",
       "        0.58106393,  0.19432493, -0.22373864,  0.26796582, -0.25368229,\n",
       "       -0.2807962 , -0.23114415, -0.13355149, -0.4099535 , -0.01971128,\n",
       "        0.0444412 ,  0.51702726,  0.41682008,  0.09203938,  0.16826762,\n",
       "        0.55892646,  0.15382159,  0.11359175, -0.46055284, -0.0324709 ,\n",
       "       -0.24967548,  0.11083235, -0.5145129 , -0.41400224,  0.06547558,\n",
       "        0.06553865, -0.40095511,  0.05541203, -0.59615552,  0.26921162,\n",
       "       -0.10365318, -0.00270204, -0.03698879,  0.14953092, -0.5393194 ,\n",
       "        0.28161576,  0.13939762,  0.14685543,  0.11003102, -0.08167239,\n",
       "        0.0279099 ,  0.26199189, -0.05284838,  0.26197213,  0.51522958,\n",
       "       -0.57959735, -0.064876  , -0.55456144, -0.18669625, -0.01823193])"
      ]
     },
     "execution_count": 27,
     "metadata": {},
     "output_type": "execute_result"
    }
   ],
   "source": [
    "emails_embedding_my_model_mean[0]"
   ]
  },
  {
   "cell_type": "markdown",
   "metadata": {},
   "source": [
    "*Создаём функцию для удаления объектов, у которых присутствуют Nan значения*"
   ]
  },
  {
   "cell_type": "code",
   "execution_count": 28,
   "metadata": {
    "execution": {
     "iopub.execute_input": "2025-03-18T05:54:16.624023Z",
     "iopub.status.busy": "2025-03-18T05:54:16.623786Z",
     "iopub.status.idle": "2025-03-18T05:54:16.639427Z",
     "shell.execute_reply": "2025-03-18T05:54:16.638813Z",
     "shell.execute_reply.started": "2025-03-18T05:54:16.624003Z"
    },
    "trusted": true
   },
   "outputs": [],
   "source": [
    "def remove_nan(emails_embedding):\n",
    "    nan_indices = np.isnan(emails_embedding).any(axis=1)\n",
    "    indexs = np.where(nan_indices)[0]\n",
    "    emails_embedding_not_nan = np.delete(emails_embedding, indexs, axis=0)\n",
    "    label_not_nan = np.delete(df[\"label\"].values, indexs)\n",
    "    \n",
    "    return emails_embedding_not_nan, label_not_nan"
   ]
  },
  {
   "cell_type": "code",
   "execution_count": 29,
   "metadata": {
    "execution": {
     "iopub.execute_input": "2025-03-18T05:54:16.640621Z",
     "iopub.status.busy": "2025-03-18T05:54:16.640307Z",
     "iopub.status.idle": "2025-03-18T05:54:16.699577Z",
     "shell.execute_reply": "2025-03-18T05:54:16.698885Z",
     "shell.execute_reply.started": "2025-03-18T05:54:16.640592Z"
    },
    "trusted": true
   },
   "outputs": [],
   "source": [
    "emails_embedding_my_model_mean_not_nan, label_my_model_mean_not_nan = remove_nan(emails_embedding_my_model_mean)"
   ]
  },
  {
   "cell_type": "code",
   "execution_count": 30,
   "metadata": {
    "execution": {
     "iopub.execute_input": "2025-03-18T05:54:16.702366Z",
     "iopub.status.busy": "2025-03-18T05:54:16.702091Z",
     "iopub.status.idle": "2025-03-18T05:54:16.707408Z",
     "shell.execute_reply": "2025-03-18T05:54:16.706742Z",
     "shell.execute_reply.started": "2025-03-18T05:54:16.702342Z"
    },
    "trusted": true
   },
   "outputs": [
    {
     "data": {
      "text/plain": [
       "((83226, 100), (83226,))"
      ]
     },
     "execution_count": 30,
     "metadata": {},
     "output_type": "execute_result"
    }
   ],
   "source": [
    "emails_embedding_my_model_mean_not_nan.shape, label_my_model_mean_not_nan.shape"
   ]
  },
  {
   "cell_type": "markdown",
   "metadata": {},
   "source": [
    "*Обучаем модели логистической регрессии и метода опорных векторов с кросс-валидацией*"
   ]
  },
  {
   "cell_type": "code",
   "execution_count": 31,
   "metadata": {
    "execution": {
     "iopub.execute_input": "2025-03-18T05:54:16.708769Z",
     "iopub.status.busy": "2025-03-18T05:54:16.708563Z",
     "iopub.status.idle": "2025-03-18T05:54:16.722127Z",
     "shell.execute_reply": "2025-03-18T05:54:16.721358Z",
     "shell.execute_reply.started": "2025-03-18T05:54:16.708744Z"
    },
    "trusted": true
   },
   "outputs": [],
   "source": [
    "scoring = [\"accuracy\", \"precision\", \"recall\", \"f1\"]"
   ]
  },
  {
   "cell_type": "code",
   "execution_count": 32,
   "metadata": {
    "execution": {
     "iopub.execute_input": "2025-03-18T05:54:16.723185Z",
     "iopub.status.busy": "2025-03-18T05:54:16.722943Z",
     "iopub.status.idle": "2025-03-18T05:54:20.623159Z",
     "shell.execute_reply": "2025-03-18T05:54:20.622176Z",
     "shell.execute_reply.started": "2025-03-18T05:54:16.723165Z"
    },
    "trusted": true
   },
   "outputs": [
    {
     "data": {
      "text/plain": [
       "{'fit_time': array([0.73829365, 0.73351431, 0.71153688, 0.70924282, 0.72319293]),\n",
       " 'score_time': array([0.01082921, 0.01023531, 0.00960588, 0.01632023, 0.00970125]),\n",
       " 'test_accuracy': array([0.8909648 , 0.89522379, 0.8916191 , 0.89486332, 0.89258035]),\n",
       " 'train_accuracy': array([0.89414239, 0.89337799, 0.89406888, 0.89312266, 0.89289737]),\n",
       " 'test_precision': array([0.89640568, 0.90245025, 0.89698981, 0.89788251, 0.89917317]),\n",
       " 'train_precision': array([0.8996621 , 0.8983046 , 0.89928181, 0.89887415, 0.89828277]),\n",
       " 'test_recall': array([0.89589292, 0.89749457, 0.89657934, 0.90240275, 0.89588101]),\n",
       " 'train_recall': array([0.8986328 , 0.89869001, 0.89894743, 0.89743443, 0.89769185]),\n",
       " 'test_f1': array([0.89614922, 0.89996558, 0.89678453, 0.90013696, 0.89752407]),\n",
       " 'train_f1': array([0.89914716, 0.89849726, 0.89911459, 0.89815371, 0.89798721])}"
      ]
     },
     "execution_count": 32,
     "metadata": {},
     "output_type": "execute_result"
    }
   ],
   "source": [
    "cross_validate(LogisticRegression(), emails_embedding_my_model_mean_not_nan, label_my_model_mean_not_nan, cv=5, scoring=scoring, return_train_score=True)"
   ]
  },
  {
   "cell_type": "code",
   "execution_count": 33,
   "metadata": {
    "execution": {
     "iopub.execute_input": "2025-03-18T05:54:20.624368Z",
     "iopub.status.busy": "2025-03-18T05:54:20.624062Z",
     "iopub.status.idle": "2025-03-18T05:54:23.608078Z",
     "shell.execute_reply": "2025-03-18T05:54:23.607368Z",
     "shell.execute_reply.started": "2025-03-18T05:54:20.624322Z"
    },
    "trusted": true
   },
   "outputs": [
    {
     "data": {
      "text/plain": [
       "{'fit_time': array([0.53730083, 0.53835297, 0.50047731, 0.55367112, 0.57649255]),\n",
       " 'score_time': array([0.01087046, 0.01020241, 0.01080799, 0.01694512, 0.01089573]),\n",
       " 'test_accuracy': array([0.89108495, 0.89462301, 0.89197957, 0.89390207, 0.88867528]),\n",
       " 'train_accuracy': array([0.8944578 , 0.89205629, 0.89424911, 0.8915156 , 0.88935282]),\n",
       " 'test_precision': array([0.89724771, 0.89586402, 0.90361586, 0.90284196, 0.91195119]),\n",
       " 'train_precision': array([0.90013464, 0.89282381, 0.90572234, 0.90362007, 0.91156118]),\n",
       " 'test_recall': array([0.89509209, 0.90447317, 0.88914312, 0.89416476, 0.8721968 ]),\n",
       " 'train_recall': array([0.89871861, 0.90280876, 0.89139637, 0.88813889, 0.87409547]),\n",
       " 'test_f1': array([0.8961686 , 0.90014801, 0.89632107, 0.89848241, 0.89163109]),\n",
       " 'train_f1': array([0.89942607, 0.89778852, 0.89850226, 0.8958126 , 0.89243528])}"
      ]
     },
     "execution_count": 33,
     "metadata": {},
     "output_type": "execute_result"
    }
   ],
   "source": [
    "cross_validate(SGDClassifier(), emails_embedding_my_model_mean_not_nan, label_my_model_mean_not_nan, cv=5, scoring=scoring, return_train_score=True)"
   ]
  },
  {
   "cell_type": "markdown",
   "metadata": {},
   "source": [
    "*Получаем очень неплохие модели, которые не переобучены и на Test дают accuracy около 0.89*"
   ]
  },
  {
   "cell_type": "markdown",
   "metadata": {},
   "source": [
    "*Попробуем применить модель Word2Vec, обученную на гораздо большем количестве данных*"
   ]
  },
  {
   "cell_type": "code",
   "execution_count": 34,
   "metadata": {
    "execution": {
     "iopub.execute_input": "2025-03-18T05:54:23.609137Z",
     "iopub.status.busy": "2025-03-18T05:54:23.608843Z",
     "iopub.status.idle": "2025-03-18T05:55:18.836134Z",
     "shell.execute_reply": "2025-03-18T05:55:18.835517Z",
     "shell.execute_reply.started": "2025-03-18T05:54:23.609115Z"
    },
    "trusted": true
   },
   "outputs": [],
   "source": [
    "model_pretrained = KeyedVectors.load_word2vec_format(\"/kaggle/input/pretrained-w2v/GoogleNews-vectors-negative300.bin\", binary=True)"
   ]
  },
  {
   "cell_type": "code",
   "execution_count": 35,
   "metadata": {
    "execution": {
     "iopub.execute_input": "2025-03-18T05:55:18.837230Z",
     "iopub.status.busy": "2025-03-18T05:55:18.836945Z",
     "iopub.status.idle": "2025-03-18T05:55:20.590698Z",
     "shell.execute_reply": "2025-03-18T05:55:20.589907Z",
     "shell.execute_reply.started": "2025-03-18T05:55:18.837201Z"
    },
    "trusted": true
   },
   "outputs": [
    {
     "data": {
      "text/plain": [
       "[('woman', 0.7664011716842651),\n",
       " ('boy', 0.6824870109558105),\n",
       " ('teenager', 0.6586930155754089),\n",
       " ('teenage_girl', 0.6147903203964233),\n",
       " ('girl', 0.5921714305877686)]"
      ]
     },
     "execution_count": 35,
     "metadata": {},
     "output_type": "execute_result"
    }
   ],
   "source": [
    "model_pretrained.most_similar(\"man\", topn=5)"
   ]
  },
  {
   "cell_type": "code",
   "execution_count": 36,
   "metadata": {
    "execution": {
     "iopub.execute_input": "2025-03-18T05:55:20.591665Z",
     "iopub.status.busy": "2025-03-18T05:55:20.591455Z",
     "iopub.status.idle": "2025-03-18T05:55:20.805945Z",
     "shell.execute_reply": "2025-03-18T05:55:20.805182Z",
     "shell.execute_reply.started": "2025-03-18T05:55:20.591647Z"
    },
    "trusted": true
   },
   "outputs": [
    {
     "data": {
      "text/plain": [
       "[('man', 0.72110915184021),\n",
       " ('boy', 0.5595242977142334),\n",
       " ('teenage_girl', 0.513959527015686),\n",
       " ('girl', 0.4972155690193176),\n",
       " ('teenager', 0.4869248569011688)]"
      ]
     },
     "execution_count": 36,
     "metadata": {},
     "output_type": "execute_result"
    }
   ],
   "source": [
    "model_pretrained.most_similar(positive=[\"king\", \"woman\"], negative=[\"queen\"], topn=5)"
   ]
  },
  {
   "cell_type": "code",
   "execution_count": 37,
   "metadata": {
    "execution": {
     "iopub.execute_input": "2025-03-18T05:55:20.806947Z",
     "iopub.status.busy": "2025-03-18T05:55:20.806711Z",
     "iopub.status.idle": "2025-03-18T05:55:40.705052Z",
     "shell.execute_reply": "2025-03-18T05:55:40.704372Z",
     "shell.execute_reply.started": "2025-03-18T05:55:20.806928Z"
    },
    "trusted": true
   },
   "outputs": [],
   "source": [
    "emails_embedding_pretrained_model = get_embeddings(model_pretrained, pretrained=1)"
   ]
  },
  {
   "cell_type": "code",
   "execution_count": 38,
   "metadata": {
    "execution": {
     "iopub.execute_input": "2025-03-18T05:55:40.706172Z",
     "iopub.status.busy": "2025-03-18T05:55:40.705881Z",
     "iopub.status.idle": "2025-03-18T05:55:49.715801Z",
     "shell.execute_reply": "2025-03-18T05:55:49.714868Z",
     "shell.execute_reply.started": "2025-03-18T05:55:40.706143Z"
    },
    "trusted": true
   },
   "outputs": [],
   "source": [
    "emails_embedding_pretrained_model_mean = get_mean_embeddings(model_pretrained, emails_embedding_pretrained_model)"
   ]
  },
  {
   "cell_type": "code",
   "execution_count": 39,
   "metadata": {
    "execution": {
     "iopub.execute_input": "2025-03-18T05:55:49.716822Z",
     "iopub.status.busy": "2025-03-18T05:55:49.716576Z",
     "iopub.status.idle": "2025-03-18T05:55:49.843298Z",
     "shell.execute_reply": "2025-03-18T05:55:49.842342Z",
     "shell.execute_reply.started": "2025-03-18T05:55:49.716802Z"
    },
    "trusted": true
   },
   "outputs": [],
   "source": [
    "emails_embedding_pretrained_model_mean_not_nan, label_pretrained_model_mean_not_nan = remove_nan(emails_embedding_pretrained_model_mean)"
   ]
  },
  {
   "cell_type": "code",
   "execution_count": 40,
   "metadata": {
    "execution": {
     "iopub.execute_input": "2025-03-18T05:55:49.844422Z",
     "iopub.status.busy": "2025-03-18T05:55:49.844157Z",
     "iopub.status.idle": "2025-03-18T05:55:49.849663Z",
     "shell.execute_reply": "2025-03-18T05:55:49.848923Z",
     "shell.execute_reply.started": "2025-03-18T05:55:49.844400Z"
    },
    "trusted": true
   },
   "outputs": [
    {
     "data": {
      "text/plain": [
       "((83252, 300), (83252,))"
      ]
     },
     "execution_count": 40,
     "metadata": {},
     "output_type": "execute_result"
    }
   ],
   "source": [
    "emails_embedding_pretrained_model_mean_not_nan.shape, label_pretrained_model_mean_not_nan.shape"
   ]
  },
  {
   "cell_type": "code",
   "execution_count": 41,
   "metadata": {
    "execution": {
     "iopub.execute_input": "2025-03-18T05:55:49.850687Z",
     "iopub.status.busy": "2025-03-18T05:55:49.850456Z",
     "iopub.status.idle": "2025-03-18T05:55:58.846385Z",
     "shell.execute_reply": "2025-03-18T05:55:58.845433Z",
     "shell.execute_reply.started": "2025-03-18T05:55:49.850666Z"
    },
    "trusted": true
   },
   "outputs": [
    {
     "data": {
      "text/plain": [
       "{'fit_time': array([1.76535702, 1.46164632, 1.76450443, 1.82566357, 1.83776927]),\n",
       " 'score_time': array([0.01412535, 0.01392889, 0.01350951, 0.01414227, 0.01410055]),\n",
       " 'test_accuracy': array([0.93988349, 0.94198547, 0.9412012 , 0.94510511, 0.94132132]),\n",
       " 'train_accuracy': array([0.94352938, 0.94288374, 0.94304976, 0.94249422, 0.94300471]),\n",
       " 'test_precision': array([0.94496151, 0.94743501, 0.94459073, 0.94753686, 0.94653943]),\n",
       " 'train_precision': array([0.94689531, 0.94652269, 0.94692345, 0.94656117, 0.94715109]),\n",
       " 'test_recall': array([0.94031557, 0.94180197, 0.9434027 , 0.94797027, 0.94145226]),\n",
       " 'train_recall': array([0.94551484, 0.94462867, 0.94451432, 0.94380127, 0.94417288]),\n",
       " 'test_f1': array([0.94263282, 0.94461009, 0.94399634, 0.94775352, 0.94398899]),\n",
       " 'train_f1': array([0.94620457, 0.94557473, 0.94571735, 0.94517921, 0.94565964])}"
      ]
     },
     "execution_count": 41,
     "metadata": {},
     "output_type": "execute_result"
    }
   ],
   "source": [
    "cross_validate(LogisticRegression(), emails_embedding_pretrained_model_mean_not_nan, label_pretrained_model_mean_not_nan, cv=5, scoring=scoring, return_train_score=True)"
   ]
  },
  {
   "cell_type": "code",
   "execution_count": 42,
   "metadata": {
    "execution": {
     "iopub.execute_input": "2025-03-18T05:55:58.847695Z",
     "iopub.status.busy": "2025-03-18T05:55:58.847365Z",
     "iopub.status.idle": "2025-03-18T05:56:02.092822Z",
     "shell.execute_reply": "2025-03-18T05:56:02.092078Z",
     "shell.execute_reply.started": "2025-03-18T05:55:58.847664Z"
    },
    "trusted": true
   },
   "outputs": [
    {
     "data": {
      "text/plain": [
       "{'fit_time': array([0.60127854, 0.56091547, 0.55026007, 0.64906001, 0.5532558 ]),\n",
       " 'score_time': array([0.01396632, 0.01379633, 0.014184  , 0.01400757, 0.01408863]),\n",
       " 'test_accuracy': array([0.93898264, 0.94198547, 0.94024024, 0.94426426, 0.94216216]),\n",
       " 'train_accuracy': array([0.9424333 , 0.9425384 , 0.94231404, 0.94103781, 0.94048227]),\n",
       " 'test_precision': array([0.93682188, 0.94867359, 0.94933333, 0.95400163, 0.93847194]),\n",
       " 'train_precision': array([0.93867951, 0.94869948, 0.95174955, 0.95168422, 0.93532995]),\n",
       " 'test_recall': array([0.94774754, 0.94042991, 0.93619941, 0.93916524, 0.95231561]),\n",
       " 'train_recall': array([0.95263278, 0.94151278, 0.93771082, 0.93522568, 0.95254838]),\n",
       " 'test_f1': array([0.94225304, 0.94453376, 0.94272063, 0.9465253 , 0.9453431 ]),\n",
       " 'train_f1': array([0.94560468, 0.94509247, 0.94467803, 0.94338317, 0.94386064])}"
      ]
     },
     "execution_count": 42,
     "metadata": {},
     "output_type": "execute_result"
    }
   ],
   "source": [
    "cross_validate(SGDClassifier(), emails_embedding_pretrained_model_mean_not_nan, label_pretrained_model_mean_not_nan, cv=5, scoring=scoring, return_train_score=True)"
   ]
  },
  {
   "cell_type": "markdown",
   "metadata": {},
   "source": [
    "*Получаем модель лучше, accuracy возросло до 0.94*"
   ]
  },
  {
   "cell_type": "markdown",
   "metadata": {},
   "source": [
    "*Теперь попробуем подготовить данные и построить модель рекуррентной нейронной сети*"
   ]
  },
  {
   "cell_type": "code",
   "execution_count": 43,
   "metadata": {
    "execution": {
     "iopub.execute_input": "2025-03-18T05:56:08.080209Z",
     "iopub.status.busy": "2025-03-18T05:56:08.079800Z",
     "iopub.status.idle": "2025-03-18T05:56:14.707562Z",
     "shell.execute_reply": "2025-03-18T05:56:14.706882Z",
     "shell.execute_reply.started": "2025-03-18T05:56:08.080175Z"
    },
    "trusted": true
   },
   "outputs": [],
   "source": [
    "indexs_nan = []\n",
    "indexs_null = []\n",
    "for index, value in enumerate(emails_embedding_my_model):\n",
    "    if (len(value) != 0):\n",
    "        if (len(np.where(np.isnan(value).any(axis=1))[0]) != 0):\n",
    "            indexs_nan.append(index)\n",
    "    else:\n",
    "        indexs_null.append(index)"
   ]
  },
  {
   "cell_type": "code",
   "execution_count": 44,
   "metadata": {
    "execution": {
     "iopub.execute_input": "2025-03-18T05:56:14.709027Z",
     "iopub.status.busy": "2025-03-18T05:56:14.708709Z",
     "iopub.status.idle": "2025-03-18T05:56:14.714249Z",
     "shell.execute_reply": "2025-03-18T05:56:14.713589Z",
     "shell.execute_reply.started": "2025-03-18T05:56:14.708995Z"
    },
    "trusted": true
   },
   "outputs": [
    {
     "data": {
      "text/plain": [
       "(0, 222)"
      ]
     },
     "execution_count": 44,
     "metadata": {},
     "output_type": "execute_result"
    }
   ],
   "source": [
    "len(indexs_nan), len(indexs_null)"
   ]
  },
  {
   "cell_type": "code",
   "execution_count": 45,
   "metadata": {
    "execution": {
     "iopub.execute_input": "2025-03-18T05:56:14.715852Z",
     "iopub.status.busy": "2025-03-18T05:56:14.715600Z",
     "iopub.status.idle": "2025-03-18T05:56:14.885065Z",
     "shell.execute_reply": "2025-03-18T05:56:14.884299Z",
     "shell.execute_reply.started": "2025-03-18T05:56:14.715822Z"
    },
    "trusted": true
   },
   "outputs": [],
   "source": [
    "emails_embedding_not_null = [value for index, value in enumerate(emails_embedding_my_model) if index not in indexs_null]\n",
    "label_not_null = np.delete(df[\"label\"].values, indexs_null)"
   ]
  },
  {
   "cell_type": "code",
   "execution_count": 46,
   "metadata": {
    "execution": {
     "iopub.execute_input": "2025-03-18T05:56:14.886280Z",
     "iopub.status.busy": "2025-03-18T05:56:14.886021Z",
     "iopub.status.idle": "2025-03-18T05:56:14.891239Z",
     "shell.execute_reply": "2025-03-18T05:56:14.890307Z",
     "shell.execute_reply.started": "2025-03-18T05:56:14.886258Z"
    },
    "trusted": true
   },
   "outputs": [
    {
     "data": {
      "text/plain": [
       "(83226, 83226)"
      ]
     },
     "execution_count": 46,
     "metadata": {},
     "output_type": "execute_result"
    }
   ],
   "source": [
    "len(emails_embedding_not_null), len(label_not_null)"
   ]
  },
  {
   "cell_type": "code",
   "execution_count": 47,
   "metadata": {
    "execution": {
     "iopub.execute_input": "2025-03-18T05:56:14.892223Z",
     "iopub.status.busy": "2025-03-18T05:56:14.891963Z",
     "iopub.status.idle": "2025-03-18T05:56:14.905141Z",
     "shell.execute_reply": "2025-03-18T05:56:14.904275Z",
     "shell.execute_reply.started": "2025-03-18T05:56:14.892200Z"
    },
    "trusted": true
   },
   "outputs": [],
   "source": [
    "class MyDataSet(Dataset):\n",
    "\n",
    "    def __init__(self, x, y):\n",
    "        self.x = [torch.tensor(seq, dtype=torch.float32) for seq in x]\n",
    "        self.y = torch.tensor(y, dtype=torch.float32)\n",
    "\n",
    "    def __getitem__(self, index):\n",
    "        return self.x[index], self.y[index]\n",
    "\n",
    "    def __len__(self):\n",
    "        return len(self.x)"
   ]
  },
  {
   "cell_type": "code",
   "execution_count": 48,
   "metadata": {
    "execution": {
     "iopub.execute_input": "2025-03-18T05:56:14.906028Z",
     "iopub.status.busy": "2025-03-18T05:56:14.905845Z",
     "iopub.status.idle": "2025-03-18T05:56:14.944323Z",
     "shell.execute_reply": "2025-03-18T05:56:14.943529Z",
     "shell.execute_reply.started": "2025-03-18T05:56:14.906011Z"
    },
    "trusted": true
   },
   "outputs": [],
   "source": [
    "X_train, X_test, y_train, y_test = train_test_split(emails_embedding_not_null, label_not_null, test_size=0.2, random_state=42)"
   ]
  },
  {
   "cell_type": "code",
   "execution_count": 49,
   "metadata": {
    "execution": {
     "iopub.execute_input": "2025-03-18T05:56:15.226164Z",
     "iopub.status.busy": "2025-03-18T05:56:15.225839Z",
     "iopub.status.idle": "2025-03-18T05:56:15.231918Z",
     "shell.execute_reply": "2025-03-18T05:56:15.231209Z",
     "shell.execute_reply.started": "2025-03-18T05:56:15.226137Z"
    },
    "trusted": true
   },
   "outputs": [
    {
     "data": {
      "text/plain": [
       "(array([ 0.0098148 ,  0.07363529,  0.22662139, -0.5966263 , -0.03104346,\n",
       "         0.05114244,  0.5776808 ,  0.5548911 , -0.08006153,  0.5252783 ,\n",
       "         0.08469971, -0.6534043 ,  0.17199656, -0.05298574, -0.08600964,\n",
       "        -0.58952886,  0.591573  , -0.6982628 ,  0.02286943, -0.21059637,\n",
       "        -0.15980433, -0.01931535,  0.1540565 , -0.36712375, -0.040148  ,\n",
       "        -0.05691309, -0.02951199,  0.2025809 , -0.09830411,  0.22504479,\n",
       "         0.1615242 ,  0.2751402 ,  0.13595317, -0.1297282 , -0.00433401,\n",
       "        -0.0978229 ,  0.19165467,  0.09623048, -0.3340152 , -0.3692188 ,\n",
       "         0.08176481, -0.09517123, -0.335281  , -0.33291808,  0.36042994,\n",
       "         0.14975278, -0.34116626,  0.18094395,  0.16744809,  0.23360017,\n",
       "         0.04645053,  0.13872704, -0.44288316,  0.05418905, -0.46764252,\n",
       "        -0.00385386,  0.2569195 ,  0.13988818, -0.12370247,  0.09431571,\n",
       "         0.16898341,  0.14625715, -0.29357985, -0.00227948, -0.3319331 ,\n",
       "         0.30886388,  0.26787835,  0.2123492 ,  0.2123017 ,  0.27301463,\n",
       "        -0.04068984,  0.7571506 ,  0.30563268,  0.13959852,  0.00984312,\n",
       "        -0.41887888,  0.10530921,  0.32183972, -0.37014905, -0.23532818,\n",
       "        -0.2871275 ,  0.07395787, -0.14713944,  0.04727796,  0.1544187 ,\n",
       "         0.17670068,  0.03617087,  0.12309505,  0.09538386,  0.33776042,\n",
       "         0.08960267,  0.14182676,  0.19020563,  0.28609195,  0.02043967,\n",
       "         0.45313326,  0.01413926,  0.03539288, -0.01636206,  0.19688694],\n",
       "       dtype=float32),\n",
       " 0)"
      ]
     },
     "execution_count": 49,
     "metadata": {},
     "output_type": "execute_result"
    }
   ],
   "source": [
    "X_train[0][0], y_train[0]"
   ]
  },
  {
   "cell_type": "code",
   "execution_count": 50,
   "metadata": {
    "execution": {
     "iopub.execute_input": "2025-03-18T05:56:16.015484Z",
     "iopub.status.busy": "2025-03-18T05:56:16.015142Z",
     "iopub.status.idle": "2025-03-18T05:59:12.842093Z",
     "shell.execute_reply": "2025-03-18T05:59:12.841381Z",
     "shell.execute_reply.started": "2025-03-18T05:56:16.015457Z"
    },
    "trusted": true
   },
   "outputs": [],
   "source": [
    "train_dataset = MyDataSet(X_train, y_train)\n",
    "test_dataset = MyDataSet(X_test, y_test)"
   ]
  },
  {
   "cell_type": "code",
   "execution_count": 51,
   "metadata": {
    "execution": {
     "iopub.execute_input": "2025-03-18T05:59:12.843354Z",
     "iopub.status.busy": "2025-03-18T05:59:12.843121Z",
     "iopub.status.idle": "2025-03-18T05:59:12.848512Z",
     "shell.execute_reply": "2025-03-18T05:59:12.847777Z",
     "shell.execute_reply.started": "2025-03-18T05:59:12.843334Z"
    },
    "trusted": true
   },
   "outputs": [
    {
     "data": {
      "text/plain": [
       "(66580, 16646)"
      ]
     },
     "execution_count": 51,
     "metadata": {},
     "output_type": "execute_result"
    }
   ],
   "source": [
    "len(train_dataset), len(test_dataset)"
   ]
  },
  {
   "cell_type": "markdown",
   "metadata": {},
   "source": [
    "*Так как последовательности разной длины, то нужно их подготовить, сделаем это с помощью добавления падингов*"
   ]
  },
  {
   "cell_type": "code",
   "execution_count": 52,
   "metadata": {
    "execution": {
     "iopub.execute_input": "2025-03-18T05:59:12.850357Z",
     "iopub.status.busy": "2025-03-18T05:59:12.850119Z",
     "iopub.status.idle": "2025-03-18T05:59:12.869135Z",
     "shell.execute_reply": "2025-03-18T05:59:12.868352Z",
     "shell.execute_reply.started": "2025-03-18T05:59:12.850337Z"
    },
    "trusted": true
   },
   "outputs": [],
   "source": [
    "def collate_fn(batch, max_len=30000):\n",
    "    sequences, labels = zip(*batch)\n",
    "\n",
    "    sequences = [seq[:max_len] for seq in sequences]\n",
    "    \n",
    "    lengths = torch.tensor([len(seq) for seq in sequences])\n",
    "    sorted_indices = torch.argsort(lengths, descending=True)\n",
    "    sequences = [sequences[i] for i in sorted_indices]\n",
    "    labels = torch.tensor([labels[i] for i in sorted_indices])\n",
    "    lengths = lengths[sorted_indices]\n",
    "\n",
    "    sequences_padded = pad_sequence(sequences, batch_first=True, padding_value=0)\n",
    "\n",
    "    sequences_packed = pack_padded_sequence(sequences_padded, lengths, batch_first=True, enforce_sorted=True)\n",
    "\n",
    "    return sequences_packed, labels, lengths"
   ]
  },
  {
   "cell_type": "code",
   "execution_count": 53,
   "metadata": {
    "execution": {
     "iopub.execute_input": "2025-03-18T05:59:12.870517Z",
     "iopub.status.busy": "2025-03-18T05:59:12.870276Z",
     "iopub.status.idle": "2025-03-18T05:59:12.885510Z",
     "shell.execute_reply": "2025-03-18T05:59:12.884710Z",
     "shell.execute_reply.started": "2025-03-18T05:59:12.870497Z"
    },
    "trusted": true
   },
   "outputs": [],
   "source": [
    "train_dataloader = DataLoader(train_dataset, batch_size=16, shuffle=True, collate_fn=collate_fn)\n",
    "test_dataloader = DataLoader(test_dataset, batch_size=32, shuffle=False, collate_fn=collate_fn)"
   ]
  },
  {
   "cell_type": "code",
   "execution_count": 54,
   "metadata": {
    "execution": {
     "iopub.execute_input": "2025-03-18T05:59:12.886486Z",
     "iopub.status.busy": "2025-03-18T05:59:12.886245Z",
     "iopub.status.idle": "2025-03-18T05:59:12.973163Z",
     "shell.execute_reply": "2025-03-18T05:59:12.972432Z",
     "shell.execute_reply.started": "2025-03-18T05:59:12.886457Z"
    },
    "trusted": true
   },
   "outputs": [
    {
     "data": {
      "text/plain": [
       "device(type='cuda', index=0)"
      ]
     },
     "execution_count": 54,
     "metadata": {},
     "output_type": "execute_result"
    }
   ],
   "source": [
    "device = torch.device(\"cuda:0\" if torch.cuda.is_available() else \"cpu\")\n",
    "device"
   ]
  },
  {
   "cell_type": "markdown",
   "metadata": {},
   "source": [
    "*Создаём модель, для начала будет обрабатываться последовательность с помощью RNN, а последнее скрытое состояние подаваться на линейный слой*"
   ]
  },
  {
   "cell_type": "code",
   "execution_count": 55,
   "metadata": {
    "execution": {
     "iopub.execute_input": "2025-03-18T05:59:12.974426Z",
     "iopub.status.busy": "2025-03-18T05:59:12.974106Z",
     "iopub.status.idle": "2025-03-18T05:59:12.988178Z",
     "shell.execute_reply": "2025-03-18T05:59:12.987431Z",
     "shell.execute_reply.started": "2025-03-18T05:59:12.974405Z"
    },
    "trusted": true
   },
   "outputs": [],
   "source": [
    "class RNNEmailClassifier(nn.Module):\n",
    "    def __init__(self):\n",
    "        super().__init__()\n",
    "        self.rnn = nn.RNN(100, 128, 1, batch_first=True, nonlinearity=\"tanh\")\n",
    "        self.fc = nn.Linear(128, 2)\n",
    "    \n",
    "    def forward(self, x, lengths):\n",
    "        packed_out, hidden = self.rnn(x)\n",
    "        hidden = hidden[-1]\n",
    "        output = self.fc(hidden)\n",
    "        return output"
   ]
  },
  {
   "cell_type": "code",
   "execution_count": 56,
   "metadata": {
    "execution": {
     "iopub.execute_input": "2025-03-18T05:59:12.989138Z",
     "iopub.status.busy": "2025-03-18T05:59:12.988921Z",
     "iopub.status.idle": "2025-03-18T05:59:20.565137Z",
     "shell.execute_reply": "2025-03-18T05:59:20.564276Z",
     "shell.execute_reply.started": "2025-03-18T05:59:12.989119Z"
    },
    "trusted": true
   },
   "outputs": [
    {
     "data": {
      "text/html": [
       "Tracking run with wandb version 0.19.1"
      ],
      "text/plain": [
       "<IPython.core.display.HTML object>"
      ]
     },
     "metadata": {},
     "output_type": "display_data"
    },
    {
     "data": {
      "text/html": [
       "Run data is saved locally in <code>/kaggle/working/wandb/run-20250318_055913-dreg5551</code>"
      ],
      "text/plain": [
       "<IPython.core.display.HTML object>"
      ]
     },
     "metadata": {},
     "output_type": "display_data"
    },
    {
     "data": {
      "text/html": [
       "Syncing run <strong><a href='https://wandb.ai/da-shumilin03/Email-Classification/runs/dreg5551' target=\"_blank\">RNN</a></strong> to <a href='https://wandb.ai/da-shumilin03/Email-Classification' target=\"_blank\">Weights & Biases</a> (<a href='https://wandb.me/developer-guide' target=\"_blank\">docs</a>)<br>"
      ],
      "text/plain": [
       "<IPython.core.display.HTML object>"
      ]
     },
     "metadata": {},
     "output_type": "display_data"
    },
    {
     "data": {
      "text/html": [
       " View project at <a href='https://wandb.ai/da-shumilin03/Email-Classification' target=\"_blank\">https://wandb.ai/da-shumilin03/Email-Classification</a>"
      ],
      "text/plain": [
       "<IPython.core.display.HTML object>"
      ]
     },
     "metadata": {},
     "output_type": "display_data"
    },
    {
     "data": {
      "text/html": [
       " View run at <a href='https://wandb.ai/da-shumilin03/Email-Classification/runs/dreg5551' target=\"_blank\">https://wandb.ai/da-shumilin03/Email-Classification/runs/dreg5551</a>"
      ],
      "text/plain": [
       "<IPython.core.display.HTML object>"
      ]
     },
     "metadata": {},
     "output_type": "display_data"
    },
    {
     "data": {
      "text/html": [
       "<button onClick=\"this.nextSibling.style.display='block';this.style.display='none';\">Display W&B run</button><iframe src='https://wandb.ai/da-shumilin03/Email-Classification/runs/dreg5551?jupyter=true' style='border:none;width:100%;height:420px;display:none;'></iframe>"
      ],
      "text/plain": [
       "<wandb.sdk.wandb_run.Run at 0x7d1fd41f6c20>"
      ]
     },
     "execution_count": 56,
     "metadata": {},
     "output_type": "execute_result"
    }
   ],
   "source": [
    "wandb.init(project=\"Email-Classification\", name=\"RNN\")"
   ]
  },
  {
   "cell_type": "markdown",
   "metadata": {},
   "source": [
    "*Инициализируем модель, оптимизатор, оптимизатор для шага обучения и обучаем модель*"
   ]
  },
  {
   "cell_type": "code",
   "execution_count": 57,
   "metadata": {
    "execution": {
     "iopub.execute_input": "2025-03-18T05:59:20.567237Z",
     "iopub.status.busy": "2025-03-18T05:59:20.567021Z",
     "iopub.status.idle": "2025-03-18T05:59:25.049492Z",
     "shell.execute_reply": "2025-03-18T05:59:25.048614Z",
     "shell.execute_reply.started": "2025-03-18T05:59:20.567218Z"
    },
    "trusted": true
   },
   "outputs": [],
   "source": [
    "model = RNNEmailClassifier().to(device)\n",
    "wandb.watch(model)\n",
    "optimizer = torch.optim.AdamW(model.parameters())\n",
    "scheduler = torch.optim.lr_scheduler.OneCycleLR(optimizer, max_lr=1e-3, total_steps=int(10 * len(train_dataset) / 16))"
   ]
  },
  {
   "cell_type": "code",
   "execution_count": 58,
   "metadata": {
    "execution": {
     "iopub.execute_input": "2025-03-18T05:59:25.051125Z",
     "iopub.status.busy": "2025-03-18T05:59:25.050610Z",
     "iopub.status.idle": "2025-03-18T06:11:43.073874Z",
     "shell.execute_reply": "2025-03-18T06:11:43.073207Z",
     "shell.execute_reply.started": "2025-03-18T05:59:25.051102Z"
    },
    "trusted": true
   },
   "outputs": [
    {
     "name": "stderr",
     "output_type": "stream",
     "text": [
      "100%|██████████| 10/10 [12:15<00:00, 73.52s/it]\n"
     ]
    },
    {
     "data": {
      "text/html": [],
      "text/plain": [
       "<IPython.core.display.HTML object>"
      ]
     },
     "metadata": {},
     "output_type": "display_data"
    },
    {
     "data": {
      "text/html": [
       "<br>    <style><br>        .wandb-row {<br>            display: flex;<br>            flex-direction: row;<br>            flex-wrap: wrap;<br>            justify-content: flex-start;<br>            width: 100%;<br>        }<br>        .wandb-col {<br>            display: flex;<br>            flex-direction: column;<br>            flex-basis: 100%;<br>            flex: 1;<br>            padding: 10px;<br>        }<br>    </style><br><div class=\"wandb-row\"><div class=\"wandb-col\"><h3>Run history:</h3><br/><table class=\"wandb\"><tr><td>mean accuracy test</td><td>▁▄▄▅▇▆▇██▇</td></tr></table><br/></div><div class=\"wandb-col\"><h3>Run summary:</h3><br/><table class=\"wandb\"><tr><td>mean accuracy test</td><td>0.93016</td></tr></table><br/></div></div>"
      ],
      "text/plain": [
       "<IPython.core.display.HTML object>"
      ]
     },
     "metadata": {},
     "output_type": "display_data"
    },
    {
     "data": {
      "text/html": [
       " View run <strong style=\"color:#cdcd00\">RNN</strong> at: <a href='https://wandb.ai/da-shumilin03/Email-Classification/runs/dreg5551' target=\"_blank\">https://wandb.ai/da-shumilin03/Email-Classification/runs/dreg5551</a><br> View project at: <a href='https://wandb.ai/da-shumilin03/Email-Classification' target=\"_blank\">https://wandb.ai/da-shumilin03/Email-Classification</a><br>Synced 5 W&B file(s), 0 media file(s), 0 artifact file(s) and 0 other file(s)"
      ],
      "text/plain": [
       "<IPython.core.display.HTML object>"
      ]
     },
     "metadata": {},
     "output_type": "display_data"
    },
    {
     "data": {
      "text/html": [
       "Find logs at: <code>./wandb/run-20250318_055913-dreg5551/logs</code>"
      ],
      "text/plain": [
       "<IPython.core.display.HTML object>"
      ]
     },
     "metadata": {},
     "output_type": "display_data"
    }
   ],
   "source": [
    "epochs = 10\n",
    "for epoch in tqdm(range(epochs)):\n",
    "    model.train()\n",
    "    for x_train, y_train, lengths in train_dataloader:\n",
    "        x_train, y_train = x_train.to(device), y_train.to(device).long()\n",
    "        y_pred = model(x_train, lengths)\n",
    "        loss = F.cross_entropy(y_pred, y_train)\n",
    "        loss.backward()\n",
    "        optimizer.step()\n",
    "        optimizer.zero_grad()\n",
    "\n",
    "    scheduler.step()\n",
    "\n",
    "    accuracy_array_for_iter = np.zeros(len(test_dataloader))\n",
    "    model.eval()\n",
    "    with torch.no_grad():\n",
    "        for index, value in enumerate(test_dataloader):\n",
    "            x_test, y_test, lengths = value[0].to(device), value[1].to(device).long(), value[2]\n",
    "            y_pred = model(x_test, lengths)\n",
    "            loss = F.cross_entropy(y_pred, y_test)\n",
    "\n",
    "            accuracy_array_for_iter[index] = (torch.argmax(y_pred, dim=-1) == y_test).cpu().numpy().mean()\n",
    "\n",
    "        wandb.log(\n",
    "            {\n",
    "                \"mean accuracy test\": accuracy_array_for_iter.mean()\n",
    "            }\n",
    "        )\n",
    "wandb.finish()"
   ]
  },
  {
   "cell_type": "markdown",
   "metadata": {},
   "source": [
    "*С помощью эмбедингов, которые были обучены на собственных данных получилось выбить accuracy 0.93 за 10 эпох обучения*"
   ]
  },
  {
   "cell_type": "code",
   "execution_count": null,
   "metadata": {
    "trusted": true
   },
   "outputs": [],
   "source": []
  }
 ],
 "metadata": {
  "kaggle": {
   "accelerator": "gpu",
   "dataSources": [
    {
     "datasetId": 6886268,
     "sourceId": 11053220,
     "sourceType": "datasetVersion"
    },
    {
     "datasetId": 6886276,
     "sourceId": 11053231,
     "sourceType": "datasetVersion"
    },
    {
     "datasetId": 6886288,
     "sourceId": 11053250,
     "sourceType": "datasetVersion"
    },
    {
     "datasetId": 6886393,
     "sourceId": 11053393,
     "sourceType": "datasetVersion"
    }
   ],
   "dockerImageVersionId": 30918,
   "isGpuEnabled": true,
   "isInternetEnabled": true,
   "language": "python",
   "sourceType": "notebook"
  },
  "kernelspec": {
   "display_name": "Python 3",
   "language": "python",
   "name": "python3"
  },
  "language_info": {
   "codemirror_mode": {
    "name": "ipython",
    "version": 3
   },
   "file_extension": ".py",
   "mimetype": "text/x-python",
   "name": "python",
   "nbconvert_exporter": "python",
   "pygments_lexer": "ipython3",
   "version": "3.10.12"
  }
 },
 "nbformat": 4,
 "nbformat_minor": 4
}
